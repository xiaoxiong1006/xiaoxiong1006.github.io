{
 "cells": [
  {
   "cell_type": "markdown",
   "metadata": {},
   "source": [
    "# 鸢尾花的分类"
   ]
  },
  {
   "cell_type": "code",
   "execution_count": 70,
   "metadata": {},
   "outputs": [],
   "source": [
    "## 导包\n",
    "import pandas as pd\n",
    "import numpy as np\n",
    "import matplotlib.pyplot as plt\n",
    "import tensorflow as tf\n",
    "\n",
    "from keras.utils import np_utils\n",
    "from sklearn.preprocessing import LabelEncoder\n",
    "from sklearn.model_selection import train_test_split"
   ]
  },
  {
   "cell_type": "code",
   "execution_count": 71,
   "metadata": {},
   "outputs": [],
   "source": [
    "## 超参数\n",
    "epochs=5\n",
    "validation_split=0.05\n",
    "test_size=0.25\n",
    "dense1_neurons =512 #第一层神经元的数量\n",
    "dense2_neurons =256 #第二层神经元的数量\n",
    "dense3_neurons =128 #第三层神经元的数量"
   ]
  },
  {
   "cell_type": "markdown",
   "metadata": {},
   "source": [
    "## 1.提出问题"
   ]
  },
  {
   "cell_type": "markdown",
   "metadata": {},
   "source": [
    "根据整理好的鸢尾花数据集，能够进行三种鸢尾花的分类。"
   ]
  },
  {
   "cell_type": "markdown",
   "metadata": {},
   "source": [
    "## 2.数据的收集和整理"
   ]
  },
  {
   "cell_type": "markdown",
   "metadata": {},
   "source": [
    "### 2.1 导入数据集"
   ]
  },
  {
   "cell_type": "code",
   "execution_count": 72,
   "metadata": {},
   "outputs": [
    {
     "name": "stdout",
     "output_type": "stream",
     "text": [
      "    sepel_length  sepel_width  petal_length  petal_width          species\n",
      "98           5.1          2.5           3.0          1.1  Iris-versicolor\n",
      "78           6.0          2.9           4.5          1.5  Iris-versicolor\n",
      "88           5.6          3.0           4.1          1.3  Iris-versicolor\n",
      "68           6.2          2.2           4.5          1.5  Iris-versicolor\n",
      "26           5.0          3.4           1.6          0.4      Iris-setosa\n"
     ]
    }
   ],
   "source": [
    "datasets_path = 'data/iris.data'\n",
    "iris = pd.read_csv(datasets_path,header=None)\n",
    "iris.columns =['sepel_length','sepel_width','petal_length','petal_width','species']\n",
    "print(iris.sample(5))"
   ]
  },
  {
   "cell_type": "markdown",
   "metadata": {},
   "source": [
    "### 2.2 将标签转化为one-hot编码"
   ]
  },
  {
   "cell_type": "code",
   "execution_count": 73,
   "metadata": {},
   "outputs": [
    {
     "data": {
      "text/html": [
       "<div>\n",
       "<style scoped>\n",
       "    .dataframe tbody tr th:only-of-type {\n",
       "        vertical-align: middle;\n",
       "    }\n",
       "\n",
       "    .dataframe tbody tr th {\n",
       "        vertical-align: top;\n",
       "    }\n",
       "\n",
       "    .dataframe thead th {\n",
       "        text-align: right;\n",
       "    }\n",
       "</style>\n",
       "<table border=\"1\" class=\"dataframe\">\n",
       "  <thead>\n",
       "    <tr style=\"text-align: right;\">\n",
       "      <th></th>\n",
       "      <th>species_Iris-setosa</th>\n",
       "      <th>species_Iris-versicolor</th>\n",
       "      <th>species_Iris-virginica</th>\n",
       "    </tr>\n",
       "  </thead>\n",
       "  <tbody>\n",
       "    <tr>\n",
       "      <th>5</th>\n",
       "      <td>1</td>\n",
       "      <td>0</td>\n",
       "      <td>0</td>\n",
       "    </tr>\n",
       "    <tr>\n",
       "      <th>14</th>\n",
       "      <td>1</td>\n",
       "      <td>0</td>\n",
       "      <td>0</td>\n",
       "    </tr>\n",
       "    <tr>\n",
       "      <th>22</th>\n",
       "      <td>1</td>\n",
       "      <td>0</td>\n",
       "      <td>0</td>\n",
       "    </tr>\n",
       "    <tr>\n",
       "      <th>63</th>\n",
       "      <td>0</td>\n",
       "      <td>1</td>\n",
       "      <td>0</td>\n",
       "    </tr>\n",
       "    <tr>\n",
       "      <th>83</th>\n",
       "      <td>0</td>\n",
       "      <td>1</td>\n",
       "      <td>0</td>\n",
       "    </tr>\n",
       "  </tbody>\n",
       "</table>\n",
       "</div>"
      ],
      "text/plain": [
       "    species_Iris-setosa  species_Iris-versicolor  species_Iris-virginica\n",
       "5                     1                        0                       0\n",
       "14                    1                        0                       0\n",
       "22                    1                        0                       0\n",
       "63                    0                        1                       0\n",
       "83                    0                        1                       0"
      ]
     },
     "execution_count": 73,
     "metadata": {},
     "output_type": "execute_result"
    }
   ],
   "source": [
    "# 对species进行one-hot编码\n",
    "one_hot_species = pd.get_dummies(iris['species'], prefix='species')\n",
    "# 随机输出5行，查看效果\n",
    "one_hot_species.sample(5)"
   ]
  },
  {
   "cell_type": "code",
   "execution_count": 74,
   "metadata": {},
   "outputs": [
    {
     "data": {
      "text/html": [
       "<div>\n",
       "<style scoped>\n",
       "    .dataframe tbody tr th:only-of-type {\n",
       "        vertical-align: middle;\n",
       "    }\n",
       "\n",
       "    .dataframe tbody tr th {\n",
       "        vertical-align: top;\n",
       "    }\n",
       "\n",
       "    .dataframe thead th {\n",
       "        text-align: right;\n",
       "    }\n",
       "</style>\n",
       "<table border=\"1\" class=\"dataframe\">\n",
       "  <thead>\n",
       "    <tr style=\"text-align: right;\">\n",
       "      <th></th>\n",
       "      <th>sepel_length</th>\n",
       "      <th>sepel_width</th>\n",
       "      <th>petal_length</th>\n",
       "      <th>petal_width</th>\n",
       "      <th>species</th>\n",
       "      <th>species_Iris-setosa</th>\n",
       "      <th>species_Iris-versicolor</th>\n",
       "      <th>species_Iris-virginica</th>\n",
       "    </tr>\n",
       "  </thead>\n",
       "  <tbody>\n",
       "    <tr>\n",
       "      <th>99</th>\n",
       "      <td>5.7</td>\n",
       "      <td>2.8</td>\n",
       "      <td>4.1</td>\n",
       "      <td>1.3</td>\n",
       "      <td>Iris-versicolor</td>\n",
       "      <td>0</td>\n",
       "      <td>1</td>\n",
       "      <td>0</td>\n",
       "    </tr>\n",
       "    <tr>\n",
       "      <th>84</th>\n",
       "      <td>5.4</td>\n",
       "      <td>3.0</td>\n",
       "      <td>4.5</td>\n",
       "      <td>1.5</td>\n",
       "      <td>Iris-versicolor</td>\n",
       "      <td>0</td>\n",
       "      <td>1</td>\n",
       "      <td>0</td>\n",
       "    </tr>\n",
       "    <tr>\n",
       "      <th>128</th>\n",
       "      <td>6.4</td>\n",
       "      <td>2.8</td>\n",
       "      <td>5.6</td>\n",
       "      <td>2.1</td>\n",
       "      <td>Iris-virginica</td>\n",
       "      <td>0</td>\n",
       "      <td>0</td>\n",
       "      <td>1</td>\n",
       "    </tr>\n",
       "    <tr>\n",
       "      <th>132</th>\n",
       "      <td>6.4</td>\n",
       "      <td>2.8</td>\n",
       "      <td>5.6</td>\n",
       "      <td>2.2</td>\n",
       "      <td>Iris-virginica</td>\n",
       "      <td>0</td>\n",
       "      <td>0</td>\n",
       "      <td>1</td>\n",
       "    </tr>\n",
       "    <tr>\n",
       "      <th>25</th>\n",
       "      <td>5.0</td>\n",
       "      <td>3.0</td>\n",
       "      <td>1.6</td>\n",
       "      <td>0.2</td>\n",
       "      <td>Iris-setosa</td>\n",
       "      <td>1</td>\n",
       "      <td>0</td>\n",
       "      <td>0</td>\n",
       "    </tr>\n",
       "  </tbody>\n",
       "</table>\n",
       "</div>"
      ],
      "text/plain": [
       "     sepel_length  sepel_width  petal_length  petal_width          species  \\\n",
       "99            5.7          2.8           4.1          1.3  Iris-versicolor   \n",
       "84            5.4          3.0           4.5          1.5  Iris-versicolor   \n",
       "128           6.4          2.8           5.6          2.1   Iris-virginica   \n",
       "132           6.4          2.8           5.6          2.2   Iris-virginica   \n",
       "25            5.0          3.0           1.6          0.2      Iris-setosa   \n",
       "\n",
       "     species_Iris-setosa  species_Iris-versicolor  species_Iris-virginica  \n",
       "99                     0                        1                       0  \n",
       "84                     0                        1                       0  \n",
       "128                    0                        0                       1  \n",
       "132                    0                        0                       1  \n",
       "25                     1                        0                       0  "
      ]
     },
     "execution_count": 74,
     "metadata": {},
     "output_type": "execute_result"
    }
   ],
   "source": [
    "#  原来的数据进行拼接\n",
    "one_hot_data = pd.concat([iris,one_hot_species], axis=1)\n",
    "# 随机输出5行，查看效果\n",
    "one_hot_data.sample(5)"
   ]
  },
  {
   "cell_type": "code",
   "execution_count": 75,
   "metadata": {},
   "outputs": [
    {
     "data": {
      "text/html": [
       "<div>\n",
       "<style scoped>\n",
       "    .dataframe tbody tr th:only-of-type {\n",
       "        vertical-align: middle;\n",
       "    }\n",
       "\n",
       "    .dataframe tbody tr th {\n",
       "        vertical-align: top;\n",
       "    }\n",
       "\n",
       "    .dataframe thead th {\n",
       "        text-align: right;\n",
       "    }\n",
       "</style>\n",
       "<table border=\"1\" class=\"dataframe\">\n",
       "  <thead>\n",
       "    <tr style=\"text-align: right;\">\n",
       "      <th></th>\n",
       "      <th>sepel_length</th>\n",
       "      <th>sepel_width</th>\n",
       "      <th>petal_length</th>\n",
       "      <th>petal_width</th>\n",
       "      <th>species_Iris-setosa</th>\n",
       "      <th>species_Iris-versicolor</th>\n",
       "      <th>species_Iris-virginica</th>\n",
       "    </tr>\n",
       "  </thead>\n",
       "  <tbody>\n",
       "    <tr>\n",
       "      <th>44</th>\n",
       "      <td>5.1</td>\n",
       "      <td>3.8</td>\n",
       "      <td>1.9</td>\n",
       "      <td>0.4</td>\n",
       "      <td>1</td>\n",
       "      <td>0</td>\n",
       "      <td>0</td>\n",
       "    </tr>\n",
       "    <tr>\n",
       "      <th>36</th>\n",
       "      <td>5.5</td>\n",
       "      <td>3.5</td>\n",
       "      <td>1.3</td>\n",
       "      <td>0.2</td>\n",
       "      <td>1</td>\n",
       "      <td>0</td>\n",
       "      <td>0</td>\n",
       "    </tr>\n",
       "    <tr>\n",
       "      <th>12</th>\n",
       "      <td>4.8</td>\n",
       "      <td>3.0</td>\n",
       "      <td>1.4</td>\n",
       "      <td>0.1</td>\n",
       "      <td>1</td>\n",
       "      <td>0</td>\n",
       "      <td>0</td>\n",
       "    </tr>\n",
       "    <tr>\n",
       "      <th>28</th>\n",
       "      <td>5.2</td>\n",
       "      <td>3.4</td>\n",
       "      <td>1.4</td>\n",
       "      <td>0.2</td>\n",
       "      <td>1</td>\n",
       "      <td>0</td>\n",
       "      <td>0</td>\n",
       "    </tr>\n",
       "    <tr>\n",
       "      <th>50</th>\n",
       "      <td>7.0</td>\n",
       "      <td>3.2</td>\n",
       "      <td>4.7</td>\n",
       "      <td>1.4</td>\n",
       "      <td>0</td>\n",
       "      <td>1</td>\n",
       "      <td>0</td>\n",
       "    </tr>\n",
       "  </tbody>\n",
       "</table>\n",
       "</div>"
      ],
      "text/plain": [
       "    sepel_length  sepel_width  petal_length  petal_width  species_Iris-setosa  \\\n",
       "44           5.1          3.8           1.9          0.4                    1   \n",
       "36           5.5          3.5           1.3          0.2                    1   \n",
       "12           4.8          3.0           1.4          0.1                    1   \n",
       "28           5.2          3.4           1.4          0.2                    1   \n",
       "50           7.0          3.2           4.7          1.4                    0   \n",
       "\n",
       "    species_Iris-versicolor  species_Iris-virginica  \n",
       "44                        0                       0  \n",
       "36                        0                       0  \n",
       "12                        0                       0  \n",
       "28                        0                       0  \n",
       "50                        1                       0  "
      ]
     },
     "execution_count": 75,
     "metadata": {},
     "output_type": "execute_result"
    }
   ],
   "source": [
    "#  删除原来的species列\n",
    "one_hot_data = one_hot_data.drop('species', axis=1)\n",
    "# 随机输出5行，查看效果\n",
    "one_hot_data.sample(5)"
   ]
  },
  {
   "cell_type": "code",
   "execution_count": 28,
   "metadata": {},
   "outputs": [
    {
     "data": {
      "text/html": [
       "<div>\n",
       "<style scoped>\n",
       "    .dataframe tbody tr th:only-of-type {\n",
       "        vertical-align: middle;\n",
       "    }\n",
       "\n",
       "    .dataframe tbody tr th {\n",
       "        vertical-align: top;\n",
       "    }\n",
       "\n",
       "    .dataframe thead th {\n",
       "        text-align: right;\n",
       "    }\n",
       "</style>\n",
       "<table border=\"1\" class=\"dataframe\">\n",
       "  <thead>\n",
       "    <tr style=\"text-align: right;\">\n",
       "      <th></th>\n",
       "      <th>sepel_length</th>\n",
       "      <th>sepel_width</th>\n",
       "      <th>petal_length</th>\n",
       "      <th>petal_width</th>\n",
       "      <th>species_Iris-setosa</th>\n",
       "      <th>species_Iris-versicolor</th>\n",
       "      <th>species_Iris-virginica</th>\n",
       "    </tr>\n",
       "  </thead>\n",
       "  <tbody>\n",
       "    <tr>\n",
       "      <th>141</th>\n",
       "      <td>6.9</td>\n",
       "      <td>3.1</td>\n",
       "      <td>5.1</td>\n",
       "      <td>2.3</td>\n",
       "      <td>0</td>\n",
       "      <td>0</td>\n",
       "      <td>1</td>\n",
       "    </tr>\n",
       "    <tr>\n",
       "      <th>149</th>\n",
       "      <td>5.9</td>\n",
       "      <td>3.0</td>\n",
       "      <td>5.1</td>\n",
       "      <td>1.8</td>\n",
       "      <td>0</td>\n",
       "      <td>0</td>\n",
       "      <td>1</td>\n",
       "    </tr>\n",
       "    <tr>\n",
       "      <th>82</th>\n",
       "      <td>5.8</td>\n",
       "      <td>2.7</td>\n",
       "      <td>3.9</td>\n",
       "      <td>1.2</td>\n",
       "      <td>0</td>\n",
       "      <td>1</td>\n",
       "      <td>0</td>\n",
       "    </tr>\n",
       "    <tr>\n",
       "      <th>96</th>\n",
       "      <td>5.7</td>\n",
       "      <td>2.9</td>\n",
       "      <td>4.2</td>\n",
       "      <td>1.3</td>\n",
       "      <td>0</td>\n",
       "      <td>1</td>\n",
       "      <td>0</td>\n",
       "    </tr>\n",
       "    <tr>\n",
       "      <th>38</th>\n",
       "      <td>4.4</td>\n",
       "      <td>3.0</td>\n",
       "      <td>1.3</td>\n",
       "      <td>0.2</td>\n",
       "      <td>1</td>\n",
       "      <td>0</td>\n",
       "      <td>0</td>\n",
       "    </tr>\n",
       "  </tbody>\n",
       "</table>\n",
       "</div>"
      ],
      "text/plain": [
       "     sepel_length  sepel_width  petal_length  petal_width  \\\n",
       "141           6.9          3.1           5.1          2.3   \n",
       "149           5.9          3.0           5.1          1.8   \n",
       "82            5.8          2.7           3.9          1.2   \n",
       "96            5.7          2.9           4.2          1.3   \n",
       "38            4.4          3.0           1.3          0.2   \n",
       "\n",
       "     species_Iris-setosa  species_Iris-versicolor  species_Iris-virginica  \n",
       "141                    0                        0                       1  \n",
       "149                    0                        0                       1  \n",
       "82                     0                        1                       0  \n",
       "96                     0                        1                       0  \n",
       "38                     1                        0                       0  "
      ]
     },
     "execution_count": 28,
     "metadata": {},
     "output_type": "execute_result"
    }
   ],
   "source": [
    "#  对species进行one-hot编码\n",
    "one_hot_species = pd.get_dummies(iris['species'], prefix='species')\n",
    "#  原来的数据进行拼接\n",
    "one_hot_data = pd.concat([iris,one_hot_species], axis=1)\n",
    "#  删除原来的species列\n",
    "one_hot_data = one_hot_data.drop('species', axis=1)\n",
    "#  随机输出5行，查看效果\n",
    "one_hot_data.sample(5)"
   ]
  },
  {
   "cell_type": "markdown",
   "metadata": {},
   "source": [
    "### 2.3 分割特征和标签"
   ]
  },
  {
   "cell_type": "code",
   "execution_count": 76,
   "metadata": {},
   "outputs": [
    {
     "name": "stdout",
     "output_type": "stream",
     "text": [
      "\n",
      "=====显示前5行特征=====\n",
      "   sepel_length  sepel_width  petal_length  petal_width\n",
      "0           5.1          3.5           1.4          0.2\n",
      "1           4.9          3.0           1.4          0.2\n",
      "2           4.7          3.2           1.3          0.2\n",
      "3           4.6          3.1           1.5          0.2\n",
      "4           5.0          3.6           1.4          0.2\n"
     ]
    }
   ],
   "source": [
    "# 提取特征\n",
    "features = one_hot_data.iloc[:,0:4]\n",
    "print(\"\\n=====显示前5行特征=====\")\n",
    "print(features.head())"
   ]
  },
  {
   "cell_type": "code",
   "execution_count": 77,
   "metadata": {},
   "outputs": [
    {
     "name": "stdout",
     "output_type": "stream",
     "text": [
      "\n",
      "=====显示前5行标签=====\n",
      "   species_Iris-setosa  species_Iris-versicolor  species_Iris-virginica\n",
      "0                    1                        0                       0\n",
      "1                    1                        0                       0\n",
      "2                    1                        0                       0\n",
      "3                    1                        0                       0\n",
      "4                    1                        0                       0\n"
     ]
    }
   ],
   "source": [
    "# 提取标签\n",
    "labels = one_hot_data.iloc[:,4:]\n",
    "print(\"\\n=====显示前5行标签=====\")\n",
    "print(labels.head())"
   ]
  },
  {
   "cell_type": "code",
   "execution_count": 78,
   "metadata": {},
   "outputs": [],
   "source": [
    "features = np.array(features)\n",
    "labels = np.array(labels)"
   ]
  },
  {
   "cell_type": "code",
   "execution_count": 79,
   "metadata": {},
   "outputs": [
    {
     "name": "stdout",
     "output_type": "stream",
     "text": [
      "特征集的形状： (150, 4)\n",
      "标签集的形状： (150, 3)\n"
     ]
    }
   ],
   "source": [
    "print(\"特征集的形状：\",features.shape)\n",
    "print(\"标签集的形状：\",labels.shape)"
   ]
  },
  {
   "cell_type": "markdown",
   "metadata": {},
   "source": [
    "### 2.4 分割训练集和测试集"
   ]
  },
  {
   "cell_type": "code",
   "execution_count": 80,
   "metadata": {},
   "outputs": [
    {
     "name": "stdout",
     "output_type": "stream",
     "text": [
      "训练特征集的形状：(112, 4)\n",
      "训练标签集的形状：(112, 3)\n",
      "测试特征集的形状：(38, 4)\n",
      "测试标签集的形状：(38, 3)\n"
     ]
    }
   ],
   "source": [
    "# 拆分训练集和测试集\n",
    "X_train,X_test,y_train,y_test = train_test_split(features,labels,test_size=test_size)\n",
    "print(\"训练特征集的形状：\" + str(X_train.shape))\n",
    "print(\"训练标签集的形状：\" + str(y_train.shape))\n",
    "print(\"测试特征集的形状：\" + str(X_test.shape))\n",
    "print(\"测试标签集的形状：\" + str(y_test.shape))"
   ]
  },
  {
   "cell_type": "markdown",
   "metadata": {},
   "source": [
    "## 3.搭建模型"
   ]
  },
  {
   "cell_type": "code",
   "execution_count": 90,
   "metadata": {},
   "outputs": [
    {
     "name": "stdout",
     "output_type": "stream",
     "text": [
      "Model: \"sequential_4\"\n",
      "_________________________________________________________________\n",
      "Layer (type)                 Output Shape              Param #   \n",
      "=================================================================\n",
      "dense_7 (Dense)              (None, 3)                 15        \n",
      "=================================================================\n",
      "Total params: 15\n",
      "Trainable params: 15\n",
      "Non-trainable params: 0\n",
      "_________________________________________________________________\n"
     ]
    }
   ],
   "source": [
    "model = tf.keras.Sequential()\n",
    "model.add(tf.keras.layers.Dense(units=3, input_dim=4,activation=\"softmax\"))\n",
    "model.summary()  # 查看模型结构"
   ]
  },
  {
   "cell_type": "code",
   "execution_count": 91,
   "metadata": {},
   "outputs": [],
   "source": [
    "# 编译模型\n",
    "model.compile(loss='categorical_crossentropy', optimizer='sgd',metrics=['accuracy'])"
   ]
  },
  {
   "cell_type": "code",
   "execution_count": 92,
   "metadata": {},
   "outputs": [
    {
     "name": "stdout",
     "output_type": "stream",
     "text": [
      "Epoch 1/100\n",
      "4/4 [==============================] - 0s 41ms/step - loss: 4.6574 - accuracy: 0.3585 - val_loss: 6.0999 - val_accuracy: 0.1667\n",
      "Epoch 2/100\n",
      "4/4 [==============================] - 0s 10ms/step - loss: 3.5217 - accuracy: 0.3585 - val_loss: 4.3069 - val_accuracy: 0.1667\n",
      "Epoch 3/100\n",
      "4/4 [==============================] - 0s 12ms/step - loss: 2.3358 - accuracy: 0.3585 - val_loss: 2.8850 - val_accuracy: 0.1667\n",
      "Epoch 4/100\n",
      "4/4 [==============================] - 0s 11ms/step - loss: 1.5522 - accuracy: 0.3585 - val_loss: 2.0613 - val_accuracy: 0.1667\n",
      "Epoch 5/100\n",
      "4/4 [==============================] - 0s 10ms/step - loss: 1.1887 - accuracy: 0.3962 - val_loss: 1.5708 - val_accuracy: 0.1667\n",
      "Epoch 6/100\n",
      "4/4 [==============================] - 0s 14ms/step - loss: 1.0022 - accuracy: 0.5943 - val_loss: 1.3328 - val_accuracy: 0.1667\n",
      "Epoch 7/100\n",
      "4/4 [==============================] - 0s 11ms/step - loss: 0.9276 - accuracy: 0.5660 - val_loss: 1.1419 - val_accuracy: 0.0000e+00\n",
      "Epoch 8/100\n",
      "4/4 [==============================] - 0s 15ms/step - loss: 0.8759 - accuracy: 0.6698 - val_loss: 1.1319 - val_accuracy: 0.1667\n",
      "Epoch 9/100\n",
      "4/4 [==============================] - 0s 12ms/step - loss: 0.8551 - accuracy: 0.6604 - val_loss: 1.0641 - val_accuracy: 0.1667\n",
      "Epoch 10/100\n",
      "4/4 [==============================] - 0s 12ms/step - loss: 0.8361 - accuracy: 0.6887 - val_loss: 0.9987 - val_accuracy: 0.3333\n",
      "Epoch 11/100\n",
      "4/4 [==============================] - 0s 10ms/step - loss: 0.8167 - accuracy: 0.6509 - val_loss: 0.9799 - val_accuracy: 0.3333\n",
      "Epoch 12/100\n",
      "4/4 [==============================] - 0s 13ms/step - loss: 0.8026 - accuracy: 0.6604 - val_loss: 0.9587 - val_accuracy: 0.3333\n",
      "Epoch 13/100\n",
      "4/4 [==============================] - 0s 15ms/step - loss: 0.7955 - accuracy: 0.6132 - val_loss: 0.9002 - val_accuracy: 0.6667\n",
      "Epoch 14/100\n",
      "4/4 [==============================] - 0s 13ms/step - loss: 0.7843 - accuracy: 0.6792 - val_loss: 0.9129 - val_accuracy: 0.5000\n",
      "Epoch 15/100\n",
      "4/4 [==============================] - 0s 15ms/step - loss: 0.7643 - accuracy: 0.7264 - val_loss: 0.9514 - val_accuracy: 0.3333\n",
      "Epoch 16/100\n",
      "4/4 [==============================] - 0s 14ms/step - loss: 0.7504 - accuracy: 0.6887 - val_loss: 1.0087 - val_accuracy: 0.1667\n",
      "Epoch 17/100\n",
      "4/4 [==============================] - 0s 16ms/step - loss: 0.7422 - accuracy: 0.6887 - val_loss: 1.0379 - val_accuracy: 0.3333\n",
      "Epoch 18/100\n",
      "4/4 [==============================] - 0s 11ms/step - loss: 0.7320 - accuracy: 0.6981 - val_loss: 0.9694 - val_accuracy: 0.1667\n",
      "Epoch 19/100\n",
      "4/4 [==============================] - 0s 13ms/step - loss: 0.7180 - accuracy: 0.6792 - val_loss: 0.9448 - val_accuracy: 0.1667\n",
      "Epoch 20/100\n",
      "4/4 [==============================] - 0s 10ms/step - loss: 0.7106 - accuracy: 0.6792 - val_loss: 0.9263 - val_accuracy: 0.1667\n",
      "Epoch 21/100\n",
      "4/4 [==============================] - 0s 12ms/step - loss: 0.7058 - accuracy: 0.6981 - val_loss: 0.9122 - val_accuracy: 0.3333\n",
      "Epoch 22/100\n",
      "4/4 [==============================] - 0s 13ms/step - loss: 0.6935 - accuracy: 0.6792 - val_loss: 0.8274 - val_accuracy: 0.6667\n",
      "Epoch 23/100\n",
      "4/4 [==============================] - 0s 14ms/step - loss: 0.6959 - accuracy: 0.7264 - val_loss: 0.8566 - val_accuracy: 0.5000\n",
      "Epoch 24/100\n",
      "4/4 [==============================] - 0s 12ms/step - loss: 0.6766 - accuracy: 0.7453 - val_loss: 0.9012 - val_accuracy: 0.1667\n",
      "Epoch 25/100\n",
      "4/4 [==============================] - 0s 17ms/step - loss: 0.6679 - accuracy: 0.6981 - val_loss: 0.8612 - val_accuracy: 0.3333\n",
      "Epoch 26/100\n",
      "4/4 [==============================] - 0s 17ms/step - loss: 0.6617 - accuracy: 0.7170 - val_loss: 0.8314 - val_accuracy: 0.5000\n",
      "Epoch 27/100\n",
      "4/4 [==============================] - 0s 15ms/step - loss: 0.6579 - accuracy: 0.7547 - val_loss: 0.8128 - val_accuracy: 0.5000\n",
      "Epoch 28/100\n",
      "4/4 [==============================] - 0s 12ms/step - loss: 0.6517 - accuracy: 0.7642 - val_loss: 0.8395 - val_accuracy: 0.3333\n",
      "Epoch 29/100\n",
      "4/4 [==============================] - 0s 11ms/step - loss: 0.6434 - accuracy: 0.7453 - val_loss: 0.8723 - val_accuracy: 0.3333\n",
      "Epoch 30/100\n",
      "4/4 [==============================] - 0s 10ms/step - loss: 0.6390 - accuracy: 0.7170 - val_loss: 0.8899 - val_accuracy: 0.1667\n",
      "Epoch 31/100\n",
      "4/4 [==============================] - 0s 13ms/step - loss: 0.6422 - accuracy: 0.7170 - val_loss: 0.8398 - val_accuracy: 0.3333\n",
      "Epoch 32/100\n",
      "4/4 [==============================] - 0s 11ms/step - loss: 0.6322 - accuracy: 0.7358 - val_loss: 0.8119 - val_accuracy: 0.5000\n",
      "Epoch 33/100\n",
      "4/4 [==============================] - 0s 10ms/step - loss: 0.6308 - accuracy: 0.7075 - val_loss: 0.8722 - val_accuracy: 0.1667\n",
      "Epoch 34/100\n",
      "4/4 [==============================] - 0s 11ms/step - loss: 0.6161 - accuracy: 0.7453 - val_loss: 0.8807 - val_accuracy: 0.3333\n",
      "Epoch 35/100\n",
      "4/4 [==============================] - 0s 10ms/step - loss: 0.6096 - accuracy: 0.7170 - val_loss: 0.8642 - val_accuracy: 0.1667\n",
      "Epoch 36/100\n",
      "4/4 [==============================] - 0s 13ms/step - loss: 0.6058 - accuracy: 0.6981 - val_loss: 0.8637 - val_accuracy: 0.3333\n",
      "Epoch 37/100\n",
      "4/4 [==============================] - 0s 10ms/step - loss: 0.6003 - accuracy: 0.7358 - val_loss: 0.8002 - val_accuracy: 0.3333\n",
      "Epoch 38/100\n",
      "4/4 [==============================] - 0s 14ms/step - loss: 0.6003 - accuracy: 0.7264 - val_loss: 0.7714 - val_accuracy: 0.5000\n",
      "Epoch 39/100\n",
      "4/4 [==============================] - 0s 9ms/step - loss: 0.6035 - accuracy: 0.7453 - val_loss: 0.8065 - val_accuracy: 0.3333\n",
      "Epoch 40/100\n",
      "4/4 [==============================] - 0s 8ms/step - loss: 0.5900 - accuracy: 0.7264 - val_loss: 0.8794 - val_accuracy: 0.3333\n",
      "Epoch 41/100\n",
      "4/4 [==============================] - 0s 8ms/step - loss: 0.5854 - accuracy: 0.7075 - val_loss: 0.8432 - val_accuracy: 0.3333\n",
      "Epoch 42/100\n",
      "4/4 [==============================] - 0s 9ms/step - loss: 0.5800 - accuracy: 0.7358 - val_loss: 0.7940 - val_accuracy: 0.3333\n",
      "Epoch 43/100\n",
      "4/4 [==============================] - 0s 9ms/step - loss: 0.5757 - accuracy: 0.7547 - val_loss: 0.7714 - val_accuracy: 0.5000\n",
      "Epoch 44/100\n",
      "4/4 [==============================] - 0s 10ms/step - loss: 0.5750 - accuracy: 0.7925 - val_loss: 0.7761 - val_accuracy: 0.3333\n",
      "Epoch 45/100\n",
      "4/4 [==============================] - 0s 10ms/step - loss: 0.5718 - accuracy: 0.7264 - val_loss: 0.7372 - val_accuracy: 0.6667\n",
      "Epoch 46/100\n",
      "4/4 [==============================] - 0s 8ms/step - loss: 0.5712 - accuracy: 0.8113 - val_loss: 0.7934 - val_accuracy: 0.3333\n",
      "Epoch 47/100\n",
      "4/4 [==============================] - 0s 10ms/step - loss: 0.5624 - accuracy: 0.7736 - val_loss: 0.7623 - val_accuracy: 0.5000\n",
      "Epoch 48/100\n",
      "4/4 [==============================] - 0s 9ms/step - loss: 0.5606 - accuracy: 0.8208 - val_loss: 0.8030 - val_accuracy: 0.3333\n",
      "Epoch 49/100\n",
      "4/4 [==============================] - 0s 10ms/step - loss: 0.5546 - accuracy: 0.7736 - val_loss: 0.7898 - val_accuracy: 0.3333\n",
      "Epoch 50/100\n",
      "4/4 [==============================] - 0s 10ms/step - loss: 0.5608 - accuracy: 0.7358 - val_loss: 0.7084 - val_accuracy: 0.6667\n",
      "Epoch 51/100\n",
      "4/4 [==============================] - 0s 11ms/step - loss: 0.5588 - accuracy: 0.8396 - val_loss: 0.7205 - val_accuracy: 0.6667\n",
      "Epoch 52/100\n",
      "4/4 [==============================] - 0s 10ms/step - loss: 0.5545 - accuracy: 0.8396 - val_loss: 0.7694 - val_accuracy: 0.3333\n",
      "Epoch 53/100\n",
      "4/4 [==============================] - 0s 11ms/step - loss: 0.5456 - accuracy: 0.8019 - val_loss: 0.8119 - val_accuracy: 0.5000\n",
      "Epoch 54/100\n",
      "4/4 [==============================] - 0s 10ms/step - loss: 0.5442 - accuracy: 0.7736 - val_loss: 0.7840 - val_accuracy: 0.5000\n",
      "Epoch 55/100\n",
      "4/4 [==============================] - 0s 11ms/step - loss: 0.5482 - accuracy: 0.7547 - val_loss: 0.7919 - val_accuracy: 0.5000\n",
      "Epoch 56/100\n",
      "4/4 [==============================] - 0s 9ms/step - loss: 0.5371 - accuracy: 0.7547 - val_loss: 0.7600 - val_accuracy: 0.3333\n",
      "Epoch 57/100\n",
      "4/4 [==============================] - 0s 11ms/step - loss: 0.5346 - accuracy: 0.8113 - val_loss: 0.7917 - val_accuracy: 0.5000\n",
      "Epoch 58/100\n",
      "4/4 [==============================] - 0s 9ms/step - loss: 0.5424 - accuracy: 0.7642 - val_loss: 0.7851 - val_accuracy: 0.5000\n",
      "Epoch 59/100\n"
     ]
    },
    {
     "name": "stdout",
     "output_type": "stream",
     "text": [
      "4/4 [==============================] - 0s 10ms/step - loss: 0.5279 - accuracy: 0.7830 - val_loss: 0.7710 - val_accuracy: 0.5000\n",
      "Epoch 60/100\n",
      "4/4 [==============================] - 0s 10ms/step - loss: 0.5270 - accuracy: 0.7925 - val_loss: 0.7945 - val_accuracy: 0.5000\n",
      "Epoch 61/100\n",
      "4/4 [==============================] - 0s 9ms/step - loss: 0.5324 - accuracy: 0.7547 - val_loss: 0.7725 - val_accuracy: 0.5000\n",
      "Epoch 62/100\n",
      "4/4 [==============================] - 0s 9ms/step - loss: 0.5254 - accuracy: 0.7830 - val_loss: 0.8203 - val_accuracy: 0.3333\n",
      "Epoch 63/100\n",
      "4/4 [==============================] - 0s 10ms/step - loss: 0.5249 - accuracy: 0.7170 - val_loss: 0.7766 - val_accuracy: 0.5000\n",
      "Epoch 64/100\n",
      "4/4 [==============================] - 0s 9ms/step - loss: 0.5237 - accuracy: 0.7736 - val_loss: 0.7266 - val_accuracy: 0.5000\n",
      "Epoch 65/100\n",
      "4/4 [==============================] - 0s 9ms/step - loss: 0.5145 - accuracy: 0.8491 - val_loss: 0.7431 - val_accuracy: 0.3333\n",
      "Epoch 66/100\n",
      "4/4 [==============================] - 0s 8ms/step - loss: 0.5131 - accuracy: 0.8113 - val_loss: 0.6986 - val_accuracy: 0.6667\n",
      "Epoch 67/100\n",
      "4/4 [==============================] - 0s 9ms/step - loss: 0.5114 - accuracy: 0.8208 - val_loss: 0.7336 - val_accuracy: 0.3333\n",
      "Epoch 68/100\n",
      "4/4 [==============================] - 0s 10ms/step - loss: 0.5082 - accuracy: 0.8396 - val_loss: 0.7714 - val_accuracy: 0.5000\n",
      "Epoch 69/100\n",
      "4/4 [==============================] - 0s 9ms/step - loss: 0.5068 - accuracy: 0.7642 - val_loss: 0.7241 - val_accuracy: 0.3333\n",
      "Epoch 70/100\n",
      "4/4 [==============================] - 0s 10ms/step - loss: 0.5043 - accuracy: 0.8396 - val_loss: 0.7792 - val_accuracy: 0.5000\n",
      "Epoch 71/100\n",
      "4/4 [==============================] - 0s 10ms/step - loss: 0.5050 - accuracy: 0.7453 - val_loss: 0.7166 - val_accuracy: 0.3333\n",
      "Epoch 72/100\n",
      "4/4 [==============================] - 0s 10ms/step - loss: 0.5028 - accuracy: 0.8774 - val_loss: 0.7482 - val_accuracy: 0.5000\n",
      "Epoch 73/100\n",
      "4/4 [==============================] - 0s 9ms/step - loss: 0.4995 - accuracy: 0.8113 - val_loss: 0.7802 - val_accuracy: 0.5000\n",
      "Epoch 74/100\n",
      "4/4 [==============================] - 0s 10ms/step - loss: 0.5000 - accuracy: 0.7358 - val_loss: 0.6676 - val_accuracy: 0.6667\n",
      "Epoch 75/100\n",
      "4/4 [==============================] - 0s 10ms/step - loss: 0.4988 - accuracy: 0.8585 - val_loss: 0.6954 - val_accuracy: 0.5000\n",
      "Epoch 76/100\n",
      "4/4 [==============================] - 0s 12ms/step - loss: 0.4937 - accuracy: 0.8585 - val_loss: 0.7097 - val_accuracy: 0.5000\n",
      "Epoch 77/100\n",
      "4/4 [==============================] - 0s 9ms/step - loss: 0.4922 - accuracy: 0.8208 - val_loss: 0.6738 - val_accuracy: 0.6667\n",
      "Epoch 78/100\n",
      "4/4 [==============================] - 0s 10ms/step - loss: 0.4926 - accuracy: 0.8585 - val_loss: 0.7146 - val_accuracy: 0.5000\n",
      "Epoch 79/100\n",
      "4/4 [==============================] - 0s 11ms/step - loss: 0.4879 - accuracy: 0.8396 - val_loss: 0.7080 - val_accuracy: 0.5000\n",
      "Epoch 80/100\n",
      "4/4 [==============================] - 0s 10ms/step - loss: 0.4885 - accuracy: 0.8396 - val_loss: 0.6733 - val_accuracy: 0.6667\n",
      "Epoch 81/100\n",
      "4/4 [==============================] - 0s 9ms/step - loss: 0.4880 - accuracy: 0.8396 - val_loss: 0.6742 - val_accuracy: 0.6667\n",
      "Epoch 82/100\n",
      "4/4 [==============================] - 0s 10ms/step - loss: 0.4850 - accuracy: 0.8491 - val_loss: 0.6692 - val_accuracy: 0.6667\n",
      "Epoch 83/100\n",
      "4/4 [==============================] - 0s 10ms/step - loss: 0.4847 - accuracy: 0.8585 - val_loss: 0.6597 - val_accuracy: 0.6667\n",
      "Epoch 84/100\n",
      "4/4 [==============================] - 0s 9ms/step - loss: 0.4841 - accuracy: 0.8396 - val_loss: 0.6568 - val_accuracy: 0.6667\n",
      "Epoch 85/100\n",
      "4/4 [==============================] - 0s 9ms/step - loss: 0.4867 - accuracy: 0.8585 - val_loss: 0.6783 - val_accuracy: 0.5000\n",
      "Epoch 86/100\n",
      "4/4 [==============================] - 0s 10ms/step - loss: 0.4793 - accuracy: 0.8679 - val_loss: 0.6363 - val_accuracy: 0.8333\n",
      "Epoch 87/100\n",
      "4/4 [==============================] - 0s 10ms/step - loss: 0.4813 - accuracy: 0.8868 - val_loss: 0.6945 - val_accuracy: 0.5000\n",
      "Epoch 88/100\n",
      "4/4 [==============================] - 0s 11ms/step - loss: 0.4742 - accuracy: 0.8396 - val_loss: 0.6691 - val_accuracy: 0.5000\n",
      "Epoch 89/100\n",
      "4/4 [==============================] - 0s 12ms/step - loss: 0.4739 - accuracy: 0.8679 - val_loss: 0.6447 - val_accuracy: 0.6667\n",
      "Epoch 90/100\n",
      "4/4 [==============================] - 0s 9ms/step - loss: 0.4746 - accuracy: 0.8868 - val_loss: 0.7062 - val_accuracy: 0.5000\n",
      "Epoch 91/100\n",
      "4/4 [==============================] - 0s 10ms/step - loss: 0.4735 - accuracy: 0.8585 - val_loss: 0.7455 - val_accuracy: 0.5000\n",
      "Epoch 92/100\n",
      "4/4 [==============================] - 0s 9ms/step - loss: 0.4740 - accuracy: 0.8019 - val_loss: 0.7554 - val_accuracy: 0.5000\n",
      "Epoch 93/100\n",
      "4/4 [==============================] - 0s 9ms/step - loss: 0.4713 - accuracy: 0.7736 - val_loss: 0.6971 - val_accuracy: 0.5000\n",
      "Epoch 94/100\n",
      "4/4 [==============================] - 0s 11ms/step - loss: 0.4685 - accuracy: 0.8585 - val_loss: 0.7700 - val_accuracy: 0.3333\n",
      "Epoch 95/100\n",
      "4/4 [==============================] - 0s 10ms/step - loss: 0.4721 - accuracy: 0.7736 - val_loss: 0.7231 - val_accuracy: 0.5000\n",
      "Epoch 96/100\n",
      "4/4 [==============================] - 0s 8ms/step - loss: 0.4652 - accuracy: 0.8113 - val_loss: 0.7027 - val_accuracy: 0.5000\n",
      "Epoch 97/100\n",
      "4/4 [==============================] - 0s 11ms/step - loss: 0.4625 - accuracy: 0.8302 - val_loss: 0.6806 - val_accuracy: 0.5000\n",
      "Epoch 98/100\n",
      "4/4 [==============================] - 0s 10ms/step - loss: 0.4614 - accuracy: 0.8491 - val_loss: 0.6536 - val_accuracy: 0.6667\n",
      "Epoch 99/100\n",
      "4/4 [==============================] - 0s 12ms/step - loss: 0.4657 - accuracy: 0.8585 - val_loss: 0.6885 - val_accuracy: 0.5000\n",
      "Epoch 100/100\n",
      "4/4 [==============================] - 0s 10ms/step - loss: 0.4588 - accuracy: 0.8302 - val_loss: 0.6889 - val_accuracy: 0.5000\n"
     ]
    }
   ],
   "source": [
    "epochs=100\n",
    "# 训练模型\n",
    "history = model.fit(X_train,y_train,validation_split=validation_split,epochs=epochs)"
   ]
  },
  {
   "cell_type": "code",
   "execution_count": 117,
   "metadata": {},
   "outputs": [
    {
     "name": "stdout",
     "output_type": "stream",
     "text": [
      "Model: \"sequential_10\"\n",
      "_________________________________________________________________\n",
      "Layer (type)                 Output Shape              Param #   \n",
      "=================================================================\n",
      "dense_23 (Dense)             (None, 64)                320       \n",
      "_________________________________________________________________\n",
      "dense_24 (Dense)             (None, 32)                2080      \n",
      "_________________________________________________________________\n",
      "dense_25 (Dense)             (None, 3)                 99        \n",
      "=================================================================\n",
      "Total params: 2,499\n",
      "Trainable params: 2,499\n",
      "Non-trainable params: 0\n",
      "_________________________________________________________________\n"
     ]
    }
   ],
   "source": [
    "dense1_neurons =64 #第一层神经元的数量\n",
    "dense2_neurons =32 #第二层神经元的数量\n",
    "# 搭建模型\n",
    "model = tf.keras.Sequential()\n",
    "model.add(tf.keras.layers.Dense(units=dense1_neurons,input_dim=4,activation='relu'))\n",
    "model.add(tf.keras.layers.Dense(units=dense2_neurons,activation='relu'))\n",
    "model.add(tf.keras.layers.Dense(units=3,activation=\"softmax\"))\n",
    "model.summary()  "
   ]
  },
  {
   "cell_type": "code",
   "execution_count": 118,
   "metadata": {},
   "outputs": [],
   "source": [
    "# 编译模型\n",
    "model.compile(loss='categorical_crossentropy', optimizer='adam',metrics=['accuracy'])"
   ]
  },
  {
   "cell_type": "code",
   "execution_count": 119,
   "metadata": {},
   "outputs": [
    {
     "name": "stdout",
     "output_type": "stream",
     "text": [
      "Epoch 1/50\n",
      "4/4 [==============================] - 0s 45ms/step - loss: 1.3408 - accuracy: 0.3302 - val_loss: 1.4066 - val_accuracy: 0.1667\n",
      "Epoch 2/50\n",
      "4/4 [==============================] - 0s 11ms/step - loss: 1.0050 - accuracy: 0.5849 - val_loss: 1.1532 - val_accuracy: 0.3333\n",
      "Epoch 3/50\n",
      "4/4 [==============================] - 0s 16ms/step - loss: 0.8615 - accuracy: 0.6887 - val_loss: 1.0105 - val_accuracy: 0.3333\n",
      "Epoch 4/50\n",
      "4/4 [==============================] - 0s 12ms/step - loss: 0.8064 - accuracy: 0.6887 - val_loss: 0.9164 - val_accuracy: 0.3333\n",
      "Epoch 5/50\n",
      "4/4 [==============================] - 0s 9ms/step - loss: 0.7708 - accuracy: 0.6887 - val_loss: 0.8465 - val_accuracy: 0.3333\n",
      "Epoch 6/50\n",
      "4/4 [==============================] - 0s 11ms/step - loss: 0.7293 - accuracy: 0.6887 - val_loss: 0.8164 - val_accuracy: 0.3333\n",
      "Epoch 7/50\n",
      "4/4 [==============================] - 0s 11ms/step - loss: 0.6937 - accuracy: 0.7075 - val_loss: 0.7951 - val_accuracy: 0.3333\n",
      "Epoch 8/50\n",
      "4/4 [==============================] - 0s 11ms/step - loss: 0.6595 - accuracy: 0.7075 - val_loss: 0.7911 - val_accuracy: 0.3333\n",
      "Epoch 9/50\n",
      "4/4 [==============================] - 0s 10ms/step - loss: 0.6323 - accuracy: 0.7075 - val_loss: 0.7843 - val_accuracy: 0.3333\n",
      "Epoch 10/50\n",
      "4/4 [==============================] - 0s 11ms/step - loss: 0.6047 - accuracy: 0.6887 - val_loss: 0.7876 - val_accuracy: 0.3333\n",
      "Epoch 11/50\n",
      "4/4 [==============================] - 0s 15ms/step - loss: 0.5805 - accuracy: 0.6887 - val_loss: 0.7995 - val_accuracy: 0.3333\n",
      "Epoch 12/50\n",
      "4/4 [==============================] - 0s 12ms/step - loss: 0.5580 - accuracy: 0.6887 - val_loss: 0.7705 - val_accuracy: 0.3333\n",
      "Epoch 13/50\n",
      "4/4 [==============================] - 0s 10ms/step - loss: 0.5378 - accuracy: 0.6887 - val_loss: 0.7380 - val_accuracy: 0.3333\n",
      "Epoch 14/50\n",
      "4/4 [==============================] - 0s 13ms/step - loss: 0.5194 - accuracy: 0.7075 - val_loss: 0.6965 - val_accuracy: 0.5000\n",
      "Epoch 15/50\n",
      "4/4 [==============================] - 0s 18ms/step - loss: 0.5012 - accuracy: 0.7925 - val_loss: 0.6575 - val_accuracy: 0.5000\n",
      "Epoch 16/50\n",
      "4/4 [==============================] - 0s 16ms/step - loss: 0.4859 - accuracy: 0.8491 - val_loss: 0.6350 - val_accuracy: 0.5000\n",
      "Epoch 17/50\n",
      "4/4 [==============================] - 0s 14ms/step - loss: 0.4716 - accuracy: 0.8585 - val_loss: 0.6214 - val_accuracy: 0.5000\n",
      "Epoch 18/50\n",
      "4/4 [==============================] - 0s 11ms/step - loss: 0.4579 - accuracy: 0.8585 - val_loss: 0.6205 - val_accuracy: 0.5000\n",
      "Epoch 19/50\n",
      "4/4 [==============================] - 0s 12ms/step - loss: 0.4461 - accuracy: 0.8302 - val_loss: 0.6229 - val_accuracy: 0.5000\n",
      "Epoch 20/50\n",
      "4/4 [==============================] - 0s 10ms/step - loss: 0.4352 - accuracy: 0.8208 - val_loss: 0.6049 - val_accuracy: 0.5000\n",
      "Epoch 21/50\n",
      "4/4 [==============================] - 0s 10ms/step - loss: 0.4238 - accuracy: 0.8491 - val_loss: 0.5839 - val_accuracy: 1.0000\n",
      "Epoch 22/50\n",
      "4/4 [==============================] - 0s 11ms/step - loss: 0.4119 - accuracy: 0.8962 - val_loss: 0.5436 - val_accuracy: 1.0000\n",
      "Epoch 23/50\n",
      "4/4 [==============================] - 0s 13ms/step - loss: 0.4057 - accuracy: 0.9528 - val_loss: 0.5168 - val_accuracy: 1.0000\n",
      "Epoch 24/50\n",
      "4/4 [==============================] - 0s 17ms/step - loss: 0.3983 - accuracy: 0.9623 - val_loss: 0.5066 - val_accuracy: 1.0000\n",
      "Epoch 25/50\n",
      "4/4 [==============================] - 0s 13ms/step - loss: 0.3873 - accuracy: 0.9528 - val_loss: 0.5177 - val_accuracy: 1.0000\n",
      "Epoch 26/50\n",
      "4/4 [==============================] - 0s 16ms/step - loss: 0.3760 - accuracy: 0.9528 - val_loss: 0.5137 - val_accuracy: 1.0000\n",
      "Epoch 27/50\n",
      "4/4 [==============================] - 0s 12ms/step - loss: 0.3682 - accuracy: 0.9057 - val_loss: 0.5202 - val_accuracy: 1.0000\n",
      "Epoch 28/50\n",
      "4/4 [==============================] - 0s 13ms/step - loss: 0.3610 - accuracy: 0.8962 - val_loss: 0.5071 - val_accuracy: 1.0000\n",
      "Epoch 29/50\n",
      "4/4 [==============================] - 0s 14ms/step - loss: 0.3532 - accuracy: 0.8962 - val_loss: 0.5002 - val_accuracy: 1.0000\n",
      "Epoch 30/50\n",
      "4/4 [==============================] - 0s 10ms/step - loss: 0.3451 - accuracy: 0.8962 - val_loss: 0.4773 - val_accuracy: 1.0000\n",
      "Epoch 31/50\n",
      "4/4 [==============================] - 0s 12ms/step - loss: 0.3378 - accuracy: 0.9528 - val_loss: 0.4380 - val_accuracy: 1.0000\n",
      "Epoch 32/50\n",
      "4/4 [==============================] - 0s 11ms/step - loss: 0.3290 - accuracy: 0.9528 - val_loss: 0.4313 - val_accuracy: 1.0000\n",
      "Epoch 33/50\n",
      "4/4 [==============================] - 0s 11ms/step - loss: 0.3211 - accuracy: 0.9528 - val_loss: 0.4266 - val_accuracy: 1.0000\n",
      "Epoch 34/50\n",
      "4/4 [==============================] - 0s 12ms/step - loss: 0.3146 - accuracy: 0.9528 - val_loss: 0.4285 - val_accuracy: 1.0000\n",
      "Epoch 35/50\n",
      "4/4 [==============================] - 0s 14ms/step - loss: 0.3059 - accuracy: 0.9528 - val_loss: 0.4106 - val_accuracy: 1.0000\n",
      "Epoch 36/50\n",
      "4/4 [==============================] - 0s 17ms/step - loss: 0.2984 - accuracy: 0.9528 - val_loss: 0.3786 - val_accuracy: 1.0000\n",
      "Epoch 37/50\n",
      "4/4 [==============================] - 0s 13ms/step - loss: 0.2941 - accuracy: 0.9528 - val_loss: 0.3742 - val_accuracy: 1.0000\n",
      "Epoch 38/50\n",
      "4/4 [==============================] - 0s 11ms/step - loss: 0.2828 - accuracy: 0.9623 - val_loss: 0.3403 - val_accuracy: 1.0000\n",
      "Epoch 39/50\n",
      "4/4 [==============================] - 0s 10ms/step - loss: 0.2820 - accuracy: 0.9528 - val_loss: 0.3269 - val_accuracy: 1.0000\n",
      "Epoch 40/50\n",
      "4/4 [==============================] - 0s 9ms/step - loss: 0.2705 - accuracy: 0.9434 - val_loss: 0.3502 - val_accuracy: 1.0000\n",
      "Epoch 41/50\n",
      "4/4 [==============================] - 0s 11ms/step - loss: 0.2629 - accuracy: 0.9434 - val_loss: 0.3692 - val_accuracy: 1.0000\n",
      "Epoch 42/50\n",
      "4/4 [==============================] - 0s 10ms/step - loss: 0.2643 - accuracy: 0.9434 - val_loss: 0.3541 - val_accuracy: 1.0000\n",
      "Epoch 43/50\n",
      "4/4 [==============================] - 0s 14ms/step - loss: 0.2518 - accuracy: 0.9528 - val_loss: 0.3101 - val_accuracy: 1.0000\n",
      "Epoch 44/50\n",
      "4/4 [==============================] - 0s 15ms/step - loss: 0.2468 - accuracy: 0.9623 - val_loss: 0.2843 - val_accuracy: 1.0000\n",
      "Epoch 45/50\n",
      "4/4 [==============================] - 0s 11ms/step - loss: 0.2420 - accuracy: 0.9528 - val_loss: 0.3024 - val_accuracy: 1.0000\n",
      "Epoch 46/50\n",
      "4/4 [==============================] - 0s 15ms/step - loss: 0.2337 - accuracy: 0.9528 - val_loss: 0.3001 - val_accuracy: 1.0000\n",
      "Epoch 47/50\n",
      "4/4 [==============================] - 0s 9ms/step - loss: 0.2292 - accuracy: 0.9528 - val_loss: 0.2870 - val_accuracy: 1.0000\n",
      "Epoch 48/50\n",
      "4/4 [==============================] - 0s 10ms/step - loss: 0.2220 - accuracy: 0.9528 - val_loss: 0.2622 - val_accuracy: 1.0000\n",
      "Epoch 49/50\n",
      "4/4 [==============================] - 0s 13ms/step - loss: 0.2202 - accuracy: 0.9623 - val_loss: 0.2362 - val_accuracy: 1.0000\n",
      "Epoch 50/50\n",
      "4/4 [==============================] - 0s 14ms/step - loss: 0.2139 - accuracy: 0.9623 - val_loss: 0.2479 - val_accuracy: 1.0000\n"
     ]
    }
   ],
   "source": [
    "epochs=50\n",
    "# 训练模型\n",
    "history = model.fit(X_train,y_train,validation_split=validation_split,epochs=epochs)"
   ]
  },
  {
   "cell_type": "code",
   "execution_count": 120,
   "metadata": {},
   "outputs": [
    {
     "data": {
      "image/png": "[encoded data removed]",
      "text/plain": [
       "<Figure size 1080x360 with 2 Axes>"
      ]
     },
     "metadata": {},
     "output_type": "display_data"
    }
   ],
   "source": [
    "plot_model_history(history)"
   ]
  },
  {
   "cell_type": "code",
   "execution_count": 103,
   "metadata": {},
   "outputs": [
    {
     "name": "stdout",
     "output_type": "stream",
     "text": [
      "2/2 [==============================] - 0s 2ms/step - loss: 0.0933 - accuracy: 1.0000\n"
     ]
    },
    {
     "data": {
      "text/plain": [
       "[0.09331685304641724, 1.0]"
      ]
     },
     "execution_count": 103,
     "metadata": {},
     "output_type": "execute_result"
    }
   ],
   "source": [
    "# 使用测试集进行评估\n",
    "model.evaluate(X_test,y_test)"
   ]
  },
  {
   "cell_type": "markdown",
   "metadata": {},
   "source": [
    "### 3.1 搭建模型"
   ]
  },
  {
   "cell_type": "code",
   "execution_count": 38,
   "metadata": {},
   "outputs": [
    {
     "name": "stdout",
     "output_type": "stream",
     "text": [
      "Model: \"sequential\"\n",
      "_________________________________________________________________\n",
      "Layer (type)                 Output Shape              Param #   \n",
      "=================================================================\n",
      "dense (Dense)                (None, 512)               2560      \n",
      "_________________________________________________________________\n",
      "dense_1 (Dense)              (None, 256)               131328    \n",
      "_________________________________________________________________\n",
      "dense_2 (Dense)              (None, 128)               32896     \n",
      "_________________________________________________________________\n",
      "dense_3 (Dense)              (None, 3)                 387       \n",
      "=================================================================\n",
      "Total params: 167,171\n",
      "Trainable params: 167,171\n",
      "Non-trainable params: 0\n",
      "_________________________________________________________________\n"
     ]
    }
   ],
   "source": [
    "model = tf.keras.Sequential()\n",
    "model.add(tf.keras.layers.Dense(units=dense1_neurons,input_dim=4,activation='relu'))\n",
    "model.add(tf.keras.layers.Dense(units=dense2_neurons,activation='relu'))\n",
    "model.add(tf.keras.layers.Dense(units=dense3_neurons,activation='relu'))\n",
    "#model.add(tf.keras.layers.Dropout(dropout_rate))\n",
    "model.add(tf.keras.layers.Dense(units=3,activation=\"softmax\"))\n",
    "model.summary()  # 查看模型结构"
   ]
  },
  {
   "cell_type": "markdown",
   "metadata": {},
   "source": [
    "###  3.2 编译模型"
   ]
  },
  {
   "cell_type": "code",
   "execution_count": 39,
   "metadata": {},
   "outputs": [],
   "source": [
    "model.compile(loss='categorical_crossentropy', optimizer='adam',metrics=['accuracy'])"
   ]
  },
  {
   "cell_type": "markdown",
   "metadata": {},
   "source": [
    "### 3.3 训练模型"
   ]
  },
  {
   "cell_type": "code",
   "execution_count": 43,
   "metadata": {},
   "outputs": [
    {
     "name": "stdout",
     "output_type": "stream",
     "text": [
      "Epoch 1/5\n",
      "4/4 [==============================] - 0s 19ms/step - loss: 0.0148 - accuracy: 0.9906 - val_loss: 0.0472 - val_accuracy: 1.0000\n",
      "Epoch 2/5\n",
      "4/4 [==============================] - 0s 14ms/step - loss: 0.0075 - accuracy: 1.0000 - val_loss: 0.0282 - val_accuracy: 1.0000\n",
      "Epoch 3/5\n",
      "4/4 [==============================] - 0s 10ms/step - loss: 0.0081 - accuracy: 1.0000 - val_loss: 0.0353 - val_accuracy: 1.0000\n",
      "Epoch 4/5\n",
      "4/4 [==============================] - 0s 10ms/step - loss: 0.0082 - accuracy: 1.0000 - val_loss: 0.0872 - val_accuracy: 1.0000\n",
      "Epoch 5/5\n",
      "4/4 [==============================] - 0s 11ms/step - loss: 0.0087 - accuracy: 1.0000 - val_loss: 0.0318 - val_accuracy: 1.0000\n"
     ]
    }
   ],
   "source": [
    "history = model.fit(X_train,y_train,validation_split=validation_split,epochs=epochs)"
   ]
  },
  {
   "cell_type": "markdown",
   "metadata": {},
   "source": [
    "## 4.评估模型"
   ]
  },
  {
   "cell_type": "code",
   "execution_count": 84,
   "metadata": {},
   "outputs": [],
   "source": [
    "def plot_model_history(model_history):\n",
    "    '''\n",
    "    功能：根据history对象，绘制训练集和验证集上loss和acc的变化图\n",
    "    参数：history对象\n",
    "    来源：https://www.tensorflow.org/tutorials/keras/basic_classification?hl=zh-cn \n",
    "    '''\n",
    "    fig, axs = plt.subplots(1,2,figsize=(15,5))\n",
    "    # summarize history for accuracy\n",
    "    axs[0].plot(range(1,len(model_history.history['accuracy'])+1),model_history.history['accuracy'])\n",
    "    axs[0].plot(range(1,len(model_history.history['val_accuracy'])+1),model_history.history['val_accuracy'])\n",
    "    axs[0].set_title('Model Accuracy')\n",
    "    axs[0].set_ylabel('Accuracy')\n",
    "    axs[0].set_xlabel('Epoch')\n",
    "    axs[0].set_xticks(np.arange(1,len(model_history.history['accuracy'])+1),len(model_history.history['accuracy'])/10)\n",
    "    axs[0].legend(['train', 'val'], loc='best')\n",
    "    # summarize history for loss\n",
    "    axs[1].plot(range(1,len(model_history.history['loss'])+1),model_history.history['loss'])\n",
    "    axs[1].plot(range(1,len(model_history.history['val_loss'])+1),model_history.history['val_loss'])\n",
    "    axs[1].set_title('Model Loss')\n",
    "    axs[1].set_ylabel('Loss')\n",
    "    axs[1].set_xlabel('Epoch')\n",
    "    axs[1].set_xticks(np.arange(1,len(model_history.history['loss'])+1),len(model_history.history['loss'])/10)\n",
    "    axs[1].legend(['train', 'val'], loc='best')\n",
    "    plt.show()"
   ]
  },
  {
   "cell_type": "code",
   "execution_count": 93,
   "metadata": {},
   "outputs": [
    {
     "data": {
      "image/png": "[encoded data removed]",
      "text/plain": [
       "<Figure size 1080x360 with 2 Axes>"
      ]
     },
     "metadata": {},
     "output_type": "display_data"
    }
   ],
   "source": [
    "plot_model_history(history)"
   ]
  },
  {
   "cell_type": "code",
   "execution_count": 50,
   "metadata": {},
   "outputs": [
    {
     "name": "stdout",
     "output_type": "stream",
     "text": [
      "2/2 [==============================] - 0s 2ms/step - loss: 0.1807 - accuracy: 0.9474\n"
     ]
    },
    {
     "data": {
      "text/plain": [
       "[0.1806722730398178, 0.9473684430122375]"
      ]
     },
     "execution_count": 50,
     "metadata": {},
     "output_type": "execute_result"
    }
   ],
   "source": [
    "# 使用测试集进行评估\n",
    "model.evaluate(X_test,y_test)"
   ]
  },
  {
   "cell_type": "markdown",
   "metadata": {},
   "source": [
    "## 5.使用模型"
   ]
  },
  {
   "cell_type": "code",
   "execution_count": 51,
   "metadata": {},
   "outputs": [
    {
     "name": "stdout",
     "output_type": "stream",
     "text": [
      "Iris-virginica\n"
     ]
    }
   ],
   "source": [
    "target = model.predict(np.array([[7,5.5,6.5,3.9]])).argmax()\n",
    "if target == 0:\n",
    "    print(\"Iris-setosa\")\n",
    "elif target == 1:\n",
    "    print(\"Iris-versicolor\")\n",
    "else:\n",
    "    print(\"Iris-virginica\")"
   ]
  }
 ],
 "metadata": {
  "kernelspec": {
   "display_name": "Python 3",
   "language": "python",
   "name": "python3"
  },
  "language_info": {
   "codemirror_mode": {
    "name": "ipython",
    "version": 3
   },
   "file_extension": ".py",
   "mimetype": "text/x-python",
   "name": "python",
   "nbconvert_exporter": "python",
   "pygments_lexer": "ipython3",
   "version": "3.6.4"
  },
  "toc": {
   "base_numbering": 1,
   "nav_menu": {},
   "number_sections": false,
   "sideBar": true,
   "skip_h1_title": false,
   "title_cell": "Table of Contents",
   "title_sidebar": "Contents",
   "toc_cell": false,
   "toc_position": {},
   "toc_section_display": true,
   "toc_window_display": false
  }
 },
 "nbformat": 4,
 "nbformat_minor": 2
}
