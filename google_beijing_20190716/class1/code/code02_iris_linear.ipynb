{
 "cells": [
  {
   "cell_type": "markdown",
   "metadata": {},
   "source": [
    "# 鸢尾花的二分类_v0.1"
   ]
  },
  {
   "cell_type": "code",
   "execution_count": 51,
   "metadata": {},
   "outputs": [],
   "source": [
    "## 导包\n",
    "import pandas as pd\n",
    "import matplotlib.pyplot as plt\n",
    "import numpy as np\n",
    "import tensorflow as tf\n",
    "\n",
    "from tensorflow.keras import layers\n",
    "from sklearn.model_selection import train_test_split"
   ]
  },
  {
   "cell_type": "markdown",
   "metadata": {},
   "source": [
    "## 1. 提出问题"
   ]
  },
  {
   "cell_type": "markdown",
   "metadata": {},
   "source": [
    "根据处理好的数据集iris_bi.data.csv,进行两种鸢尾花setosa和versicolor的分类。"
   ]
  },
  {
   "cell_type": "markdown",
   "metadata": {},
   "source": [
    "## 2.导入新的数据集"
   ]
  },
  {
   "cell_type": "code",
   "execution_count": 52,
   "metadata": {},
   "outputs": [
    {
     "name": "stdout",
     "output_type": "stream",
     "text": [
      "      0    1  2\n",
      "35  1.2  0.2  0\n",
      "60  3.5  1.0  1\n",
      "71  4.0  1.3  1\n",
      "16  1.3  0.4  0\n",
      "56  4.7  1.6  1\n"
     ]
    }
   ],
   "source": [
    "datasets_path = 'data/iris_bi.data.csv'\n",
    "iris = pd.read_csv(datasets_path,header=None)\n",
    "print(iris.sample(5))"
   ]
  },
  {
   "cell_type": "code",
   "execution_count": 53,
   "metadata": {},
   "outputs": [
    {
     "name": "stdout",
     "output_type": "stream",
     "text": [
      "<class 'numpy.ndarray'>\n",
      "(100, 3)\n"
     ]
    }
   ],
   "source": [
    "# 转换为np.array\n",
    "iris = np.array(iris)\n",
    "print(type(iris))\n",
    "print(iris.shape)"
   ]
  },
  {
   "cell_type": "code",
   "execution_count": 54,
   "metadata": {},
   "outputs": [
    {
     "data": {
      "text/plain": [
       "<matplotlib.collections.PathCollection at 0x1343839b0>"
      ]
     },
     "execution_count": 54,
     "metadata": {},
     "output_type": "execute_result"
    },
    {
     "data": {
      "image/png": "[encoded data removed]",
      "text/plain": [
       "<Figure size 432x288 with 1 Axes>"
      ]
     },
     "metadata": {},
     "output_type": "display_data"
    }
   ],
   "source": [
    "# 可视化\n",
    "plt.scatter(iris[:49,0],iris[:49,1],marker='x',c='red')\n",
    "plt.scatter(iris[50:99,0],iris[50:99,1],marker='o',c='green')"
   ]
  },
  {
   "cell_type": "code",
   "execution_count": 55,
   "metadata": {},
   "outputs": [
    {
     "name": "stdout",
     "output_type": "stream",
     "text": [
      "特征集的形状：(100, 2)\n",
      "标签集的形状：(100,)\n"
     ]
    }
   ],
   "source": [
    "# 拆分特征和标签\n",
    "iris_X = iris[:,0:2]\n",
    "iris_y = iris[:,-1]\n",
    "print(\"特征集的形状：\" + str(iris_X.shape))\n",
    "print(\"标签集的形状：\" + str(iris_y.shape))"
   ]
  },
  {
   "cell_type": "code",
   "execution_count": 56,
   "metadata": {},
   "outputs": [
    {
     "name": "stdout",
     "output_type": "stream",
     "text": [
      "训练特征集的形状：(75, 2)\n",
      "训练标签集的形状：(75,)\n",
      "测试特征集的形状：(25, 2)\n",
      "测试标签集的形状：(25,)\n"
     ]
    }
   ],
   "source": [
    "# 拆分训练集和测试集\n",
    "X_train,X_test,y_train,y_test = train_test_split(iris_X,iris_y,test_size=0.25)\n",
    "print(\"训练特征集的形状：\" + str(X_train.shape))\n",
    "print(\"训练标签集的形状：\" + str(y_train.shape))\n",
    "print(\"测试特征集的形状：\" + str(X_test.shape))\n",
    "print(\"测试标签集的形状：\" + str(y_test.shape))"
   ]
  },
  {
   "cell_type": "markdown",
   "metadata": {},
   "source": [
    "## 2.训练模型"
   ]
  },
  {
   "cell_type": "code",
   "execution_count": 57,
   "metadata": {},
   "outputs": [
    {
     "name": "stdout",
     "output_type": "stream",
     "text": [
      "_________________________________________________________________\n",
      "Layer (type)                 Output Shape              Param #   \n",
      "=================================================================\n",
      "dense_1 (Dense)              (None, 1)                 3         \n",
      "=================================================================\n",
      "Total params: 3\n",
      "Trainable params: 3\n",
      "Non-trainable params: 0\n",
      "_________________________________________________________________\n"
     ]
    }
   ],
   "source": [
    "# 搭建模型\n",
    "model = tf.keras.Sequential()\n",
    "model.add(tf.keras.layers.Dense(units=1, input_dim=2))\n",
    "model.summary()  # 查看模型结构"
   ]
  },
  {
   "cell_type": "code",
   "execution_count": 58,
   "metadata": {},
   "outputs": [],
   "source": [
    "# 编译模型\n",
    "model.compile(optimizer='sgd', loss='mse')"
   ]
  },
  {
   "cell_type": "code",
   "execution_count": 59,
   "metadata": {},
   "outputs": [
    {
     "name": "stdout",
     "output_type": "stream",
     "text": [
      "Epoch 1/100\n",
      "75/75 [==============================] - 0s 2ms/step - loss: 3.5816\n",
      "Epoch 2/100\n",
      "75/75 [==============================] - 0s 126us/step - loss: 0.7773\n",
      "Epoch 3/100\n",
      "75/75 [==============================] - 0s 243us/step - loss: 0.3197\n",
      "Epoch 4/100\n",
      "75/75 [==============================] - 0s 238us/step - loss: 0.2034\n",
      "Epoch 5/100\n",
      "75/75 [==============================] - 0s 294us/step - loss: 0.1746\n",
      "Epoch 6/100\n",
      "75/75 [==============================] - 0s 176us/step - loss: 0.1686\n",
      "Epoch 7/100\n",
      "75/75 [==============================] - 0s 212us/step - loss: 0.1647\n",
      "Epoch 8/100\n",
      "75/75 [==============================] - 0s 206us/step - loss: 0.1609\n",
      "Epoch 9/100\n",
      "75/75 [==============================] - 0s 241us/step - loss: 0.1572\n",
      "Epoch 10/100\n",
      "75/75 [==============================] - 0s 170us/step - loss: 0.1543\n",
      "Epoch 11/100\n",
      "75/75 [==============================] - 0s 287us/step - loss: 0.1508\n",
      "Epoch 12/100\n",
      "75/75 [==============================] - 0s 358us/step - loss: 0.1474\n",
      "Epoch 13/100\n",
      "75/75 [==============================] - 0s 220us/step - loss: 0.1446\n",
      "Epoch 14/100\n",
      "75/75 [==============================] - 0s 201us/step - loss: 0.1428\n",
      "Epoch 15/100\n",
      "75/75 [==============================] - 0s 127us/step - loss: 0.1386\n",
      "Epoch 16/100\n",
      "75/75 [==============================] - 0s 125us/step - loss: 0.1359\n",
      "Epoch 17/100\n",
      "75/75 [==============================] - 0s 137us/step - loss: 0.1334\n",
      "Epoch 18/100\n",
      "75/75 [==============================] - 0s 105us/step - loss: 0.1309\n",
      "Epoch 19/100\n",
      "75/75 [==============================] - 0s 90us/step - loss: 0.1284\n",
      "Epoch 20/100\n",
      "75/75 [==============================] - 0s 131us/step - loss: 0.1264\n",
      "Epoch 21/100\n",
      "75/75 [==============================] - 0s 142us/step - loss: 0.1236\n",
      "Epoch 22/100\n",
      "75/75 [==============================] - 0s 163us/step - loss: 0.1208\n",
      "Epoch 23/100\n",
      "75/75 [==============================] - 0s 103us/step - loss: 0.1184\n",
      "Epoch 24/100\n",
      "75/75 [==============================] - 0s 193us/step - loss: 0.1164\n",
      "Epoch 25/100\n",
      "75/75 [==============================] - 0s 136us/step - loss: 0.1138\n",
      "Epoch 26/100\n",
      "75/75 [==============================] - 0s 181us/step - loss: 0.1119\n",
      "Epoch 27/100\n",
      "75/75 [==============================] - 0s 151us/step - loss: 0.1109\n",
      "Epoch 28/100\n",
      "75/75 [==============================] - 0s 112us/step - loss: 0.1079\n",
      "Epoch 29/100\n",
      "75/75 [==============================] - 0s 117us/step - loss: 0.1060\n",
      "Epoch 30/100\n",
      "75/75 [==============================] - 0s 81us/step - loss: 0.1037\n",
      "Epoch 31/100\n",
      "75/75 [==============================] - 0s 223us/step - loss: 0.1015\n",
      "Epoch 32/100\n",
      "75/75 [==============================] - 0s 109us/step - loss: 0.0999\n",
      "Epoch 33/100\n",
      "75/75 [==============================] - 0s 96us/step - loss: 0.0980\n",
      "Epoch 34/100\n",
      "75/75 [==============================] - 0s 158us/step - loss: 0.0961\n",
      "Epoch 35/100\n",
      "75/75 [==============================] - 0s 155us/step - loss: 0.0942\n",
      "Epoch 36/100\n",
      "75/75 [==============================] - 0s 102us/step - loss: 0.0927\n",
      "Epoch 37/100\n",
      "75/75 [==============================] - 0s 144us/step - loss: 0.0909\n",
      "Epoch 38/100\n",
      "75/75 [==============================] - 0s 96us/step - loss: 0.0893\n",
      "Epoch 39/100\n",
      "75/75 [==============================] - 0s 131us/step - loss: 0.0882\n",
      "Epoch 40/100\n",
      "75/75 [==============================] - 0s 120us/step - loss: 0.0866\n",
      "Epoch 41/100\n",
      "75/75 [==============================] - 0s 156us/step - loss: 0.0849\n",
      "Epoch 42/100\n",
      "75/75 [==============================] - 0s 95us/step - loss: 0.0834\n",
      "Epoch 43/100\n",
      "75/75 [==============================] - 0s 146us/step - loss: 0.0824\n",
      "Epoch 44/100\n",
      "75/75 [==============================] - 0s 172us/step - loss: 0.0807\n",
      "Epoch 45/100\n",
      "75/75 [==============================] - 0s 78us/step - loss: 0.0792\n",
      "Epoch 46/100\n",
      "75/75 [==============================] - 0s 118us/step - loss: 0.0777\n",
      "Epoch 47/100\n",
      "75/75 [==============================] - 0s 166us/step - loss: 0.0769\n",
      "Epoch 48/100\n",
      "75/75 [==============================] - 0s 115us/step - loss: 0.0757\n",
      "Epoch 49/100\n",
      "75/75 [==============================] - 0s 177us/step - loss: 0.0753\n",
      "Epoch 50/100\n",
      "75/75 [==============================] - 0s 138us/step - loss: 0.0744\n",
      "Epoch 51/100\n",
      "75/75 [==============================] - 0s 183us/step - loss: 0.0721\n",
      "Epoch 52/100\n",
      "75/75 [==============================] - 0s 132us/step - loss: 0.0710\n",
      "Epoch 53/100\n",
      "75/75 [==============================] - 0s 110us/step - loss: 0.0699\n",
      "Epoch 54/100\n",
      "75/75 [==============================] - 0s 177us/step - loss: 0.0682\n",
      "Epoch 55/100\n",
      "75/75 [==============================] - 0s 165us/step - loss: 0.0672\n",
      "Epoch 56/100\n",
      "75/75 [==============================] - 0s 92us/step - loss: 0.0662\n",
      "Epoch 57/100\n",
      "75/75 [==============================] - 0s 190us/step - loss: 0.0647\n",
      "Epoch 58/100\n",
      "75/75 [==============================] - 0s 116us/step - loss: 0.0637\n",
      "Epoch 59/100\n",
      "75/75 [==============================] - 0s 128us/step - loss: 0.0630\n",
      "Epoch 60/100\n",
      "75/75 [==============================] - 0s 101us/step - loss: 0.0620\n",
      "Epoch 61/100\n",
      "75/75 [==============================] - 0s 100us/step - loss: 0.0610\n",
      "Epoch 62/100\n",
      "75/75 [==============================] - 0s 80us/step - loss: 0.0602\n",
      "Epoch 63/100\n",
      "75/75 [==============================] - 0s 98us/step - loss: 0.0594\n",
      "Epoch 64/100\n",
      "75/75 [==============================] - 0s 162us/step - loss: 0.0587\n",
      "Epoch 65/100\n",
      "75/75 [==============================] - 0s 118us/step - loss: 0.0574\n",
      "Epoch 66/100\n",
      "75/75 [==============================] - 0s 88us/step - loss: 0.0565\n",
      "Epoch 67/100\n",
      "75/75 [==============================] - 0s 135us/step - loss: 0.0557\n",
      "Epoch 68/100\n",
      "75/75 [==============================] - 0s 114us/step - loss: 0.0548\n",
      "Epoch 69/100\n",
      "75/75 [==============================] - 0s 108us/step - loss: 0.0540\n",
      "Epoch 70/100\n",
      "75/75 [==============================] - 0s 154us/step - loss: 0.0533\n",
      "Epoch 71/100\n",
      "75/75 [==============================] - 0s 116us/step - loss: 0.0525\n",
      "Epoch 72/100\n",
      "75/75 [==============================] - 0s 143us/step - loss: 0.0516\n",
      "Epoch 73/100\n",
      "75/75 [==============================] - 0s 130us/step - loss: 0.0508\n",
      "Epoch 74/100\n",
      "75/75 [==============================] - 0s 132us/step - loss: 0.0501\n",
      "Epoch 75/100\n",
      "75/75 [==============================] - 0s 240us/step - loss: 0.0493\n",
      "Epoch 76/100\n",
      "75/75 [==============================] - 0s 136us/step - loss: 0.0486\n",
      "Epoch 77/100\n",
      "75/75 [==============================] - 0s 92us/step - loss: 0.0480\n",
      "Epoch 78/100\n",
      "75/75 [==============================] - 0s 83us/step - loss: 0.0474\n",
      "Epoch 79/100\n",
      "75/75 [==============================] - 0s 109us/step - loss: 0.0469\n",
      "Epoch 80/100\n",
      "75/75 [==============================] - 0s 150us/step - loss: 0.0460\n",
      "Epoch 81/100\n",
      "75/75 [==============================] - 0s 88us/step - loss: 0.0455\n",
      "Epoch 82/100\n",
      "75/75 [==============================] - 0s 141us/step - loss: 0.0449\n",
      "Epoch 83/100\n",
      "75/75 [==============================] - 0s 126us/step - loss: 0.0446\n",
      "Epoch 84/100\n",
      "75/75 [==============================] - 0s 100us/step - loss: 0.0440\n",
      "Epoch 85/100\n",
      "75/75 [==============================] - 0s 93us/step - loss: 0.0432\n",
      "Epoch 86/100\n",
      "75/75 [==============================] - 0s 110us/step - loss: 0.0428\n",
      "Epoch 87/100\n",
      "75/75 [==============================] - 0s 127us/step - loss: 0.0420\n",
      "Epoch 88/100\n",
      "75/75 [==============================] - 0s 123us/step - loss: 0.0416\n",
      "Epoch 89/100\n",
      "75/75 [==============================] - 0s 72us/step - loss: 0.0413\n",
      "Epoch 90/100\n",
      "75/75 [==============================] - 0s 71us/step - loss: 0.0407\n",
      "Epoch 91/100\n",
      "75/75 [==============================] - 0s 116us/step - loss: 0.0402\n",
      "Epoch 92/100\n",
      "75/75 [==============================] - 0s 111us/step - loss: 0.0397\n",
      "Epoch 93/100\n",
      "75/75 [==============================] - 0s 90us/step - loss: 0.0393\n",
      "Epoch 94/100\n",
      "75/75 [==============================] - 0s 75us/step - loss: 0.0390\n",
      "Epoch 95/100\n",
      "75/75 [==============================] - 0s 150us/step - loss: 0.0385\n",
      "Epoch 96/100\n",
      "75/75 [==============================] - 0s 108us/step - loss: 0.0381\n",
      "Epoch 97/100\n",
      "75/75 [==============================] - 0s 53us/step - loss: 0.0376\n",
      "Epoch 98/100\n",
      "75/75 [==============================] - 0s 138us/step - loss: 0.0372\n",
      "Epoch 99/100\n",
      "75/75 [==============================] - 0s 120us/step - loss: 0.0370\n",
      "Epoch 100/100\n"
     ]
    },
    {
     "name": "stdout",
     "output_type": "stream",
     "text": [
      "32/75 [===========>..................] - ETA: 0s - loss: 0.0396\b\b\b\b\b\b\b\b\b\b\b\b\b\b\b\b\b\b\b\b\b\b\b\b\b\b\b\b\b\b\b\b\b\b\b\b\b\b\b\b\b\b\b\b\b\b\b\b\b\b\b\b\b\b\b\b\b\b\b\b\b\b\b\r",
      "75/75 [==============================] - 0s 111us/step - loss: 0.0366\n"
     ]
    }
   ],
   "source": [
    "# 训练模型\n",
    "history = model.fit(X_train, y_train,epochs=100)"
   ]
  },
  {
   "cell_type": "markdown",
   "metadata": {},
   "source": [
    "## 3.评估模型"
   ]
  },
  {
   "cell_type": "code",
   "execution_count": 60,
   "metadata": {},
   "outputs": [
    {
     "data": {
      "text/plain": [
       "[<matplotlib.lines.Line2D at 0x134d9d6a0>]"
      ]
     },
     "execution_count": 60,
     "metadata": {},
     "output_type": "execute_result"
    },
    {
     "data": {
      "image/png": "[encoded data removed]",
      "text/plain": [
       "<Figure size 432x288 with 1 Axes>"
      ]
     },
     "metadata": {},
     "output_type": "display_data"
    }
   ],
   "source": [
    "# 输出loss函数的变化\n",
    "plt.plot(history.history['loss'])"
   ]
  },
  {
   "cell_type": "code",
   "execution_count": 61,
   "metadata": {},
   "outputs": [
    {
     "name": "stdout",
     "output_type": "stream",
     "text": [
      "\r",
      "25/25 [==============================] - 0s 3ms/step\n"
     ]
    },
    {
     "data": {
      "text/plain": [
       "0.030918527394533157"
      ]
     },
     "execution_count": 61,
     "metadata": {},
     "output_type": "execute_result"
    }
   ],
   "source": [
    "# 在测试集上loss函数的值\n",
    "model.evaluate(X_test,y_test)"
   ]
  },
  {
   "cell_type": "markdown",
   "metadata": {},
   "source": [
    "## 4.使用模型"
   ]
  },
  {
   "cell_type": "code",
   "execution_count": 80,
   "metadata": {},
   "outputs": [
    {
     "name": "stdout",
     "output_type": "stream",
     "text": [
      "=====真实结果=====\n",
      "[0. 0. 1. 0. 1. 0. 0. 1. 1. 0. 1. 0. 1. 0. 0. 1. 1. 1. 1. 1. 0. 0. 0. 0.\n",
      " 0.]\n",
      "=====预测结果=====\n",
      "[[ 0.26433852  0.12519976  1.1531546   0.16561392  0.9152911   0.17456213\n",
      "   0.22392443  1.0544298   0.645962    0.17456213  1.0769477   0.07583749\n",
      "   0.8255148  -0.02288714  0.28223488  0.9467571   0.9736016   1.1442063\n",
      "   0.9467571   1.1846204   0.22392443  0.12519976  0.17456213  0.17456213\n",
      "   0.28223488]]\n"
     ]
    }
   ],
   "source": [
    "# 在测试集上进行预测\n",
    "print(\"=====真实结果=====\")\n",
    "print(y_test)\n",
    "print(\"=====预测结果=====\")\n",
    "predict = model.predict(X_test.reshape(-1,2))\n",
    "print(predict.reshape(1,-1))"
   ]
  },
  {
   "cell_type": "code",
   "execution_count": 69,
   "metadata": {},
   "outputs": [
    {
     "data": {
      "text/plain": [
       "<matplotlib.collections.PathCollection at 0x1348b55f8>"
      ]
     },
     "execution_count": 69,
     "metadata": {},
     "output_type": "execute_result"
    },
    {
     "data": {
      "image/png": "[encoded data removed]",
      "text/plain": [
       "<Figure size 432x288 with 1 Axes>"
      ]
     },
     "metadata": {},
     "output_type": "display_data"
    }
   ],
   "source": [
    "# 可视化预测结果\n",
    "x=np.arange(1,26) \n",
    "#print(model.predict(X_test.reshape(25,2)))\n",
    "plt.scatter(x,y_test,marker='o',c='blue')\n",
    "plt.scatter(x,predict,marker='X',c='red')"
   ]
  },
  {
   "cell_type": "code",
   "execution_count": 81,
   "metadata": {},
   "outputs": [
    {
     "name": "stdout",
     "output_type": "stream",
     "text": [
      "0.5345514\n"
     ]
    }
   ],
   "source": [
    "# 使用真实的样本进行预测\n",
    "target = model.predict(np.array([[6.5,3.9]]))[0][0]\n",
    "print(target)"
   ]
  }
 ],
 "metadata": {
  "kernelspec": {
   "display_name": "Python 3",
   "language": "python",
   "name": "python3"
  },
  "language_info": {
   "codemirror_mode": {
    "name": "ipython",
    "version": 3
   },
   "file_extension": ".py",
   "mimetype": "text/x-python",
   "name": "python",
   "nbconvert_exporter": "python",
   "pygments_lexer": "ipython3",
   "version": "3.6.4"
  }
 },
 "nbformat": 4,
 "nbformat_minor": 2
}
